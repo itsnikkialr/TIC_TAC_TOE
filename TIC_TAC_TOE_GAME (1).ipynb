{
 "cells": [
  {
   "cell_type": "code",
   "execution_count": 172,
   "id": "dc51365e",
   "metadata": {},
   "outputs": [],
   "source": [
    "# prints out intructions\n",
    "def print_instructions():\n",
    "    print(\"Welcome to tic tac toe!\")\n",
    "    print('')\n",
    "    print(\"Instructions: The board will appear without the following numbers\")\n",
    "    print(\"When it's your turn, type the number listed in your desired location to place your marker.\")\n",
    "    print('')\n",
    "    print(\" 1 | 2 | 3\")\n",
    "    print(\"-----------\")\n",
    "    print(\" 4 | 5 | 6\")\n",
    "    print(\"-----------\")\n",
    "    print(\" 7 | 8 | 9\")\n",
    "    print('')\n",
    "    print(\"The person who goes first is player 1 and will be X, and the person who goes second is player 2 and will be O.\")\n",
    "    print(\"Have fun!\")"
   ]
  },
  {
   "cell_type": "code",
   "execution_count": 173,
   "id": "960031b3",
   "metadata": {},
   "outputs": [],
   "source": [
    "# display board\n",
    "def display_board(board):\n",
    "    print('')\n",
    "    print(f\" {board[1]} | {board[2]} | {board[3]}\")\n",
    "    print(\"-----------\")\n",
    "    print(f\" {board[4]} | {board[5]} | {board[6]}\")\n",
    "    print(\"-----------\")\n",
    "    print(f\" {board[7]} | {board[8]} | {board[9]}\")\n",
    "    print('')"
   ]
  },
  {
   "cell_type": "code",
   "execution_count": 174,
   "id": "f8003f36",
   "metadata": {},
   "outputs": [],
   "source": [
    "#ask user 1 for move\n",
    "def player1_move(board):\n",
    "    valid_choice = False\n",
    "    p1choice = input('Player 1 place your X (enter a digit from 1-9): ')\n",
    "    while not valid_choice:\n",
    "        if not p1choice.isdigit():\n",
    "            p1choice = input('Not a digit, please try again!: ')\n",
    "        elif int(p1choice) not in range(1, 10):\n",
    "            p1choice = input('Not in range, please try again!: ')\n",
    "        elif board[int(p1choice)] != ' ':\n",
    "            p1choice = input('The chosen spot has already been marked, try another spot: ')\n",
    "        else: valid_choice = True\n",
    "    board[int(p1choice)] = 'X'"
   ]
  },
  {
   "cell_type": "code",
   "execution_count": 175,
   "id": "dfbd5949",
   "metadata": {},
   "outputs": [],
   "source": [
    "#ask user 2 for move\n",
    "def player2_move(board):\n",
    "    valid_choice = False\n",
    "    p2choice = input('Player 2 place your O (enter a digit from 1-9): ')\n",
    "    while not valid_choice:\n",
    "        if not p2choice.isdigit():\n",
    "            p2choice = input('Not a digit, please try again!: ')\n",
    "        elif int(p2choice) not in range(1, 10):\n",
    "            p2choice = input('Not in range, please try again!: ')\n",
    "        elif board[int(p2choice)] != ' ':\n",
    "            p2choice = input('The chosen spot has already been marked, try another spot: ')\n",
    "        else: valid_choice = True\n",
    "    board[int(p2choice)] = 'O'"
   ]
  },
  {
   "cell_type": "code",
   "execution_count": 176,
   "id": "a0ac80b2",
   "metadata": {},
   "outputs": [],
   "source": [
    "def win_check(board):\n",
    "    #checks if player 1 won\n",
    "    if ((board[1] == board[2] == board[3] == ('X')) \n",
    "    or (board[4] == board[5] == board[6] == ('X'))\n",
    "    or (board[7] == board[8] == board[9] == ('X'))\n",
    "    or (board[1] == board[4] == board[7] == ('X'))\n",
    "    or (board[2] == board[5] == board[8] == ('X'))\n",
    "    or (board[3] == board[6] == board[9] == ('X'))\n",
    "    or (board[1] == board[5] == board[9] == ('X'))\n",
    "    or (board[3] == board[5] == board[7] == ('X'))):\n",
    "        display_board(board)\n",
    "        print(\"Player 1 wins!\")\n",
    "        return True\n",
    "    \n",
    "    #checks if player 2 won\n",
    "    if ((board[1] == board[2] == board[3] == ('O')) \n",
    "    or (board[4] == board[5] == board[6] == ('O'))\n",
    "    or (board[7] == board[8] == board[9] == ('O'))\n",
    "    or (board[1] == board[4] == board[7] == ('O'))\n",
    "    or (board[2] == board[5] == board[8] == ('O'))\n",
    "    or (board[3] == board[6] == board[9] == ('O'))\n",
    "    or (board[1] == board[5] == board[9] == ('O'))\n",
    "    or (board[3] == board[5] == board[7] == ('O'))):\n",
    "        print(\"Player 2 wins!\")\n",
    "        display_board(board)\n",
    "        return True\n",
    "    \n",
    "    #no win\n",
    "    return False\n",
    "    "
   ]
  },
  {
   "cell_type": "code",
   "execution_count": 177,
   "id": "5e85cd57",
   "metadata": {},
   "outputs": [],
   "source": [
    "def replay():\n",
    "    print('')\n",
    "    user_choice = input(\"Great game, would you like to play again?(Y/N): \")\n",
    "    while user_choice not in ('Y','N'):\n",
    "        user_choice = input(\"Please enter 'Y' for yes or 'N' for no: \")\n",
    "    if user_choice == 'Y': \n",
    "        return True\n",
    "    else: return False"
   ]
  },
  {
   "cell_type": "code",
   "execution_count": 183,
   "id": "94eccd4c",
   "metadata": {},
   "outputs": [],
   "source": [
    "def game_play():\n",
    "    board = ['null', ' ', ' ', ' ', ' ', ' ', ' ', ' ', ' ', ' ']\n",
    "    # even count is player 1's turn, odd count is player 2's turn\n",
    "    count = 0\n",
    "    print_instructions()\n",
    "    while not win_check(board):\n",
    "        if count == 9:\n",
    "            display_board(board)\n",
    "            print(\"It's a draw!\")\n",
    "            break\n",
    "        display_board(board)\n",
    "        if count % 2 == 0: player1_move(board)\n",
    "        else: player2_move(board)\n",
    "        count += 1\n",
    "    if replay(): game_play()\n",
    "    else: print(\"Thanks for playing :]\")"
   ]
  }
 ],
 "metadata": {
  "kernelspec": {
   "display_name": "Python 3 (ipykernel)",
   "language": "python",
   "name": "python3"
  },
  "language_info": {
   "codemirror_mode": {
    "name": "ipython",
    "version": 3
   },
   "file_extension": ".py",
   "mimetype": "text/x-python",
   "name": "python",
   "nbconvert_exporter": "python",
   "pygments_lexer": "ipython3",
   "version": "3.10.9"
  }
 },
 "nbformat": 4,
 "nbformat_minor": 5
}
